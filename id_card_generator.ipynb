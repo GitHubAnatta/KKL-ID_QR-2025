{
 "cells": [
  {
   "cell_type": "code",
   "execution_count": 1,
   "id": "636d2fb9",
   "metadata": {},
   "outputs": [
    {
     "name": "stdout",
     "output_type": "stream",
     "text": [
      "Starting ID card generation...\n",
      "Created ID card for Rahul Sharma at C:\\Users\\kumar\\_Documents\\kannada\\qr-program-wip\\id_cards\\KS001_id.png\n",
      "Created ID card for Priya Patel at C:\\Users\\kumar\\_Documents\\kannada\\qr-program-wip\\id_cards\\KS002_id.png\n",
      "Created ID card for Aarav Gupta at C:\\Users\\kumar\\_Documents\\kannada\\qr-program-wip\\id_cards\\KS003_id.png\n",
      "Process completed. Check output folders.\n"
     ]
    }
   ],
   "source": [
    "import csv\n",
    "import qrcode\n",
    "import os\n",
    "from PIL import Image, ImageDraw, ImageFont\n",
    "\n",
    "# Configuration\n",
    "CSV_PATH = r\"C:\\Users\\kumar\\_Documents\\kannada\\qr-program-wip\\members.csv\"\n",
    "QR_CODE_DIR = r\"C:\\Users\\kumar\\_Documents\\kannada\\qr-program-wip\\qr_codes\"\n",
    "ID_CARD_DIR = r\"C:\\Users\\kumar\\_Documents\\kannada\\qr-program-wip\\id_cards\"\n",
    "CARD_WIDTH = 600\n",
    "CARD_HEIGHT = 350  # Increased height for status field\n",
    "FONT_PATH = \"arial.ttf\"\n",
    "\n",
    "# Create directories if they don't exist\n",
    "os.makedirs(QR_CODE_DIR, exist_ok=True)\n",
    "os.makedirs(ID_CARD_DIR, exist_ok=True)\n",
    "\n",
    "def generate_qr_code(data, id_number):\n",
    "    qr = qrcode.QRCode(version=1, box_size=10, border=4)\n",
    "    qr.add_data(data)\n",
    "    qr.make(fit=True)\n",
    "    img = qr.make_image(fill=\"black\", back_color=\"white\")\n",
    "    qr_path = os.path.join(QR_CODE_DIR, f\"{id_number}_qr.png\")\n",
    "    img.save(qr_path)\n",
    "    return qr_path\n",
    "\n",
    "def create_id_card(name, id_number, status):\n",
    "    card = Image.new(\"RGB\", (CARD_WIDTH, CARD_HEIGHT), \"white\")\n",
    "    draw = ImageDraw.Draw(card)\n",
    "\n",
    "    try:\n",
    "        font_large = ImageFont.truetype(FONT_PATH, 30)\n",
    "        font_medium = ImageFont.truetype(FONT_PATH, 24)\n",
    "        font_small = ImageFont.truetype(FONT_PATH, 20)\n",
    "    except IOError:\n",
    "        print(\"Font error: Using default font\")\n",
    "        font_large = ImageFont.load_default()\n",
    "        font_medium = ImageFont.load_default()\n",
    "        font_small = ImageFont.load_default()\n",
    "\n",
    "    # Text elements\n",
    "    draw.text((20, 20), f\"Name: {name}\", fill=\"black\", font=font_large)\n",
    "    draw.text((20, 70), f\"ID: {id_number}\", fill=\"black\", font=font_large)\n",
    "    draw.text((20, 120), f\"Status: {status}\", fill=\"blue\", font=font_medium)\n",
    "    draw.text((20, 160), \"Valid Until: 31 December 2025\", fill=\"black\", font=font_small)\n",
    "\n",
    "    # Add QR code\n",
    "    qr_data = f\"Name: {name}\\nID: {id_number}\\nStatus: {status}\\nValid Until: 2025-12-31\"\n",
    "    qr_path = generate_qr_code(qr_data, id_number)\n",
    "    qr_img = Image.open(qr_path).resize((150, 150))\n",
    "    card.paste(qr_img, (400, 50))\n",
    "\n",
    "    # Save ID card\n",
    "    output_path = os.path.join(ID_CARD_DIR, f\"{id_number}_id.png\")\n",
    "    card.save(output_path)\n",
    "    print(f\"Created ID card for {name} at {output_path}\")\n",
    "\n",
    "def main():\n",
    "    with open(CSV_PATH, \"r\") as f:\n",
    "        reader = csv.DictReader(f)\n",
    "        for row in reader:\n",
    "            create_id_card(\n",
    "                name=row[\"Name\"],\n",
    "                id_number=row[\"ID_Number\"],\n",
    "                status=row[\"Status\"]\n",
    "            )\n",
    "\n",
    "if __name__ == \"__main__\":\n",
    "    print(\"Starting ID card generation...\")\n",
    "    main()\n",
    "    print(\"Process completed. Check output folders.\")\n"
   ]
  },
  {
   "cell_type": "code",
   "execution_count": null,
   "id": "237f7f2c",
   "metadata": {},
   "outputs": [],
   "source": []
  }
 ],
 "metadata": {
  "kernelspec": {
   "display_name": "Python 3",
   "language": "python",
   "name": "python3"
  },
  "language_info": {
   "codemirror_mode": {
    "name": "ipython",
    "version": 3
   },
   "file_extension": ".py",
   "mimetype": "text/x-python",
   "name": "python",
   "nbconvert_exporter": "python",
   "pygments_lexer": "ipython3",
   "version": "3.9.9"
  }
 },
 "nbformat": 4,
 "nbformat_minor": 5
}
